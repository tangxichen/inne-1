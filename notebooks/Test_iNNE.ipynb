{
 "cells": [
  {
   "cell_type": "code",
   "execution_count": 1,
   "metadata": {},
   "outputs": [
    {
     "name": "stdout",
     "output_type": "stream",
     "text": [
      "[0. 0. 0. 0. 0. 0.]\n"
     ]
    }
   ],
   "source": [
    "from iNNE_py import iNNE\n",
    "import numpy as np\n",
    "data = np.array([[1  ,   2   ,  3] ,\n",
    "                 [1  ,   2   ,  3] ,\n",
    "                 [1  ,   2   ,  3] ,\n",
    "                 [2   ,  3   ,  4],\n",
    "                 [2   ,  3   ,  4],\n",
    "                 [3   ,  4   ,  5]])\n",
    "for n in range(1,10):\n",
    "    psi = pow(2, n)\n",
    "    model = iNNE(100, psi)\n",
    "    model.fit(data)\n",
    "    y_pred = model.predict(data)\n",
    "print(y_pred)"
   ]
  },
  {
   "cell_type": "code",
   "execution_count": null,
   "metadata": {},
   "outputs": [],
   "source": []
  }
 ],
 "metadata": {
  "kernelspec": {
   "display_name": "Python 3",
   "language": "python",
   "name": "python3"
  },
  "language_info": {
   "codemirror_mode": {
    "name": "ipython",
    "version": 3
   },
   "file_extension": ".py",
   "mimetype": "text/x-python",
   "name": "python",
   "nbconvert_exporter": "python",
   "pygments_lexer": "ipython3",
   "version": "3.7.6"
  }
 },
 "nbformat": 4,
 "nbformat_minor": 4
}
